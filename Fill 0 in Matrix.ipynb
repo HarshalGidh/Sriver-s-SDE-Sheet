{
 "cells": [
  {
   "cell_type": "markdown",
   "id": "2d2d8a0d",
   "metadata": {},
   "source": [
    "Given an m x n integer matrix matrix, if an element is 0, set its entire row and column to 0's.\n",
    "\n",
    "You must do it in place.\n",
    "\n",
    " \n",
    "\n",
    "Example 1:\n",
    "\n",
    "\n",
    "Input: matrix = [[1,1,1],[1,0,1],[1,1,1]]\n",
    "Output: [[1,0,1],[0,0,0],[1,0,1]]\n",
    "Example 2:\n",
    "\n",
    "\n",
    "Input: matrix = [[0,1,2,0],[3,4,5,2],[1,3,1,5]]\n",
    "Output: [[0,0,0,0],[0,4,5,0],[0,3,1,0]]\n",
    " \n",
    "\n",
    "Constraints:\n",
    "\n",
    "m == matrix.length\n",
    "n == matrix[0].length\n",
    "1 <= m, n <= 200\n",
    "-231 <= matrix[i][j] <= 231 - 1\n",
    " \n",
    "\n",
    "Follow up:\n",
    "\n",
    "A straightforward solution using O(mn) space is probably a bad idea.\n",
    "A simple improvement uses O(m + n) space, but still not the best solution.\n",
    "Could you devise a constant space solution?"
   ]
  },
  {
   "cell_type": "code",
   "execution_count": 6,
   "id": "87a2fe75",
   "metadata": {},
   "outputs": [
    {
     "name": "stdout",
     "output_type": "stream",
     "text": [
      "Enter Matrix:1 1 1 , 1 0 1 , 1 1 1\n"
     ]
    },
    {
     "data": {
      "text/plain": [
       "<bound method Solution.setZeroes of <__main__.Solution object at 0x000001C76E5ADEB0>>"
      ]
     },
     "execution_count": 6,
     "metadata": {},
     "output_type": "execute_result"
    }
   ],
   "source": [
    "class Solution:\n",
    "  def setZeroes(self, matrix):\n",
    "    zero_rows, zero_cols = set(), set()\n",
    "    for i in range(len(matrix)):\n",
    "        for j in range(len(matrix[0])):\n",
    "            if matrix[i][j] == 0:\n",
    "                zero_rows.add(i)\n",
    "                zero_cols.add(j)\n",
    "    for i in zero_rows:\n",
    "        matrix[i] = [0] * len(matrix[0])\n",
    "    for j in zero_cols:\n",
    "        for i in range(len(matrix)):\n",
    "            matrix[i][j] = 0\n",
    "    print(matrix)\n",
    "inp=input(\"Enter Matrix:\")\n",
    "matrix=list(inp)\n",
    "obj=Solution()\n",
    "obj.setZeroes"
   ]
  },
  {
   "cell_type": "code",
   "execution_count": null,
   "id": "06743615",
   "metadata": {},
   "outputs": [],
   "source": [
    "count=arr.count(0)\n",
    "    ele=arr[0]\n",
    "    for i in range(1,len(arr)):\n",
    "        if count<arr.count(i+1):\n",
    "            count=arr.count(i+1)\n",
    "            ele=arr[i+1]\n",
    "        elif count==arr.count(i+1):\n",
    "            if ele>arr[i+1]:\n",
    "                ele=arr[i+1]\n",
    "        \n",
    "    return ele"
   ]
  }
 ],
 "metadata": {
  "kernelspec": {
   "display_name": "Python 3 (ipykernel)",
   "language": "python",
   "name": "python3"
  },
  "language_info": {
   "codemirror_mode": {
    "name": "ipython",
    "version": 3
   },
   "file_extension": ".py",
   "mimetype": "text/x-python",
   "name": "python",
   "nbconvert_exporter": "python",
   "pygments_lexer": "ipython3",
   "version": "3.9.13"
  }
 },
 "nbformat": 4,
 "nbformat_minor": 5
}
